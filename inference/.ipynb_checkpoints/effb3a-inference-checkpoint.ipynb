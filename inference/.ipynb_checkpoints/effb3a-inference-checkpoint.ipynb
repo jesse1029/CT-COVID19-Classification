{
 "cells": [
  {
   "cell_type": "code",
   "execution_count": 1,
   "id": "6ab71dbb",
   "metadata": {},
   "outputs": [],
   "source": [
    "import os\n",
    "import gc\n",
    "import cv2\n",
    "import math\n",
    "import copy\n",
    "import time\n",
    "import random\n",
    "\n",
    "# For data manipulation\n",
    "import numpy as np\n",
    "import pandas as pd\n",
    "\n",
    "# Pytorch Imports\n",
    "import torch\n",
    "import torch.nn as nn\n",
    "import torch.optim as optim\n",
    "import torch.nn.functional as F\n",
    "from torch.optim import lr_scheduler\n",
    "from torch.utils.data import Dataset, DataLoader\n",
    "from torch.cuda import amp\n",
    "\n",
    "# Albumentations for augmentations\n",
    "import albumentations as A\n",
    "from albumentations.pytorch import ToTensorV2\n",
    "\n",
    "\n",
    "from sklearn.metrics import f1_score,roc_auc_score\n",
    "\n",
    "\n",
    "import timm\n",
    "from timm.models.efficientnet import *\n",
    "\n",
    "# Utils\n",
    "import joblib\n",
    "from tqdm import tqdm\n",
    "from collections import defaultdict\n",
    "\n",
    "\n",
    "import warnings\n",
    "warnings.filterwarnings(\"ignore\")\n",
    "\n",
    "from sklearn.metrics import f1_score\n",
    "\n",
    "import matplotlib.pyplot as plt\n",
    "import glob\n",
    "\n",
    "import pickle"
   ]
  },
  {
   "cell_type": "code",
   "execution_count": 2,
   "id": "cfdc1b9d",
   "metadata": {},
   "outputs": [],
   "source": [
    "CONFIG = {\"seed\": 2022,\n",
    "\n",
    "          \"valid_batch_size\": 32,\n",
    "\n",
    "          \"device\": torch.device(\"cuda:0\" if torch.cuda.is_available() else \"cpu\"),\n",
    "\n",
    "          \n",
    "          \n",
    "          \"train_batch\":16,\n",
    "          \n",
    "          }"
   ]
  },
  {
   "cell_type": "code",
   "execution_count": 3,
   "id": "66f9073d",
   "metadata": {},
   "outputs": [],
   "source": [
    "def set_seed(seed=42):\n",
    "    '''Sets the seed of the entire notebook so results are the same every time we run.\n",
    "    This is for REPRODUCIBILITY.'''\n",
    "    np.random.seed(seed)\n",
    "    torch.manual_seed(seed)\n",
    "    torch.cuda.manual_seed(seed)\n",
    "    # When running on the CuDNN backend, two further options must be set\n",
    "    torch.backends.cudnn.deterministic = False\n",
    "    torch.backends.cudnn.benchmark = True\n",
    "    # Set a fixed value for the hash seed\n",
    "    os.environ['PYTHONHASHSEED'] = str(seed)\n",
    "    \n",
    "set_seed()"
   ]
  },
  {
   "cell_type": "code",
   "execution_count": 4,
   "id": "4d470262",
   "metadata": {},
   "outputs": [],
   "source": [
    "test_ct_list=list(glob.glob(os.path.join(\"work_test/test_crop\", \"*\"))) "
   ]
  },
  {
   "cell_type": "code",
   "execution_count": 5,
   "id": "2b643017",
   "metadata": {},
   "outputs": [],
   "source": [
    "df=pd.DataFrame(test_ct_list,columns=[\"path\"])"
   ]
  },
  {
   "cell_type": "code",
   "execution_count": 6,
   "id": "a60fb9f4",
   "metadata": {},
   "outputs": [],
   "source": [
    "with open('work_test/test_dic1_05.pickle', 'rb') as f:\n",
    "    test_dic = pickle.load(f)"
   ]
  },
  {
   "cell_type": "code",
   "execution_count": 7,
   "id": "5b782d37",
   "metadata": {},
   "outputs": [
    {
     "data": {
      "text/plain": [
       "5281"
      ]
     },
     "execution_count": 7,
     "metadata": {},
     "output_type": "execute_result"
    }
   ],
   "source": [
    "len(test_dic)"
   ]
  },
  {
   "cell_type": "code",
   "execution_count": 8,
   "id": "1deabbcb",
   "metadata": {},
   "outputs": [],
   "source": [
    "class Covid19Dataset_valid(Dataset):\n",
    "    def __init__(self, df,train_batch=10,transforms=None):\n",
    "        self.df = df\n",
    "        self.path = df['path'].values\n",
    "        \n",
    "        self.transforms = transforms\n",
    "        self.img_batch=train_batch\n",
    "        \n",
    "    def __len__(self):\n",
    "        return len(self.df)\n",
    "    \n",
    "    def __getitem__(self, index):\n",
    "        \n",
    "        img_path = self.path[index]\n",
    "        img_path_l = os.listdir(img_path)\n",
    "        img_path_l_ = [file[2:] if file.startswith(\"._\") else file for file in img_path_l]\n",
    "        \n",
    "        img_list = [int(i.split('.')[0]) for i in img_path_l_]\n",
    "        index_sort = sorted(range(len(img_list)), key=lambda k: img_list[k])\n",
    "        ct_len = len(img_list)\n",
    "\n",
    "        \n",
    "        start_idx,end_idx=test_dic[img_path]\n",
    "        \n",
    "\n",
    "\n",
    "        img_sample = torch.zeros((self.img_batch, 3, 256, 256))\n",
    "        \n",
    "\n",
    "        \n",
    "        if (end_idx-start_idx) >= self.img_batch:\n",
    "            sample_idx = random.sample(range(start_idx, end_idx),self.img_batch)\n",
    "        elif ct_len>20:\n",
    "            sample_idx = [random.choice(range(start_idx, end_idx)) for _ in range(self.img_batch)]\n",
    "        else:\n",
    "            sample_idx = [random.choice(range(ct_len)) for _ in range(self.img_batch)]\n",
    "        \n",
    "        for count, idx in enumerate(sample_idx):\n",
    "\n",
    "            img_path_ = os.path.join(img_path, img_path_l_[index_sort[idx]])\n",
    "            \n",
    "            img = cv2.imread(img_path_)\n",
    "          \n",
    "            img = cv2.cvtColor(img, cv2.COLOR_BGR2RGB)\n",
    "            \n",
    "            img = self.transforms(image=img)['image']\n",
    "          \n",
    "            \n",
    "            img_sample[count] = img[:]\n",
    "            \n",
    "        return {\n",
    "            'image': img_sample,\n",
    "            'id': img_path\n",
    "        }\n",
    "        \n",
    "        \n",
    "        \n",
    "        \n",
    "        \n"
   ]
  },
  {
   "cell_type": "code",
   "execution_count": 9,
   "id": "eb38c58d",
   "metadata": {},
   "outputs": [],
   "source": [
    "def prepare_loaders():\n",
    "\n",
    "\n",
    "  \n",
    "\n",
    "    valid_dataset = Covid19Dataset_valid(df,CONFIG['train_batch'], transforms=data_transforms[\"valid\"])\n",
    "\n",
    "\n",
    "    valid_loader = DataLoader(valid_dataset, batch_size=CONFIG[\"valid_batch_size\"], \n",
    "                              num_workers=8, shuffle=False, pin_memory=True)\n",
    "    \n",
    "    return  valid_loader"
   ]
  },
  {
   "cell_type": "code",
   "execution_count": 10,
   "id": "cc1ffdd0",
   "metadata": {},
   "outputs": [],
   "source": [
    "data_transforms = {\n",
    "\n",
    "    \n",
    "    \"valid\": A.Compose([\n",
    "        A.Resize(256, 256),\n",
    "\n",
    "        A.Normalize(),\n",
    "        ToTensorV2()], p=1.)\n",
    "}"
   ]
  },
  {
   "cell_type": "code",
   "execution_count": 11,
   "id": "0fb5e56d",
   "metadata": {},
   "outputs": [],
   "source": [
    "class Net(nn.Module):\n",
    "    def __init__(self):\n",
    "        super(Net, self).__init__()\n",
    "\n",
    "        e = efficientnet_b3a(pretrained=True, drop_rate=0.3, drop_path_rate=0.2)\n",
    "        self.b0 = nn.Sequential(\n",
    "            e.conv_stem,\n",
    "            e.bn1,\n",
    "            e.act1,\n",
    "        )\n",
    "        self.b1 = e.blocks[0]\n",
    "        self.b2 = e.blocks[1]\n",
    "        self.b3 = e.blocks[2]\n",
    "        self.b4 = e.blocks[3]\n",
    "        self.b5 = e.blocks[4]\n",
    "        self.b6 = e.blocks[5]\n",
    "        self.b7 = e.blocks[6]\n",
    "        self.b8 = nn.Sequential(\n",
    "            e.conv_head, \n",
    "            e.bn2,\n",
    "            e.act2,\n",
    "        )\n",
    "\n",
    "        self.emb = nn.Linear(1536,224)\n",
    "        self.logit = nn.Linear(224,1)\n",
    "        \n",
    "\n",
    "    def forward(self, image):\n",
    "        batch_size = len(image)\n",
    "        x = 2*image-1     \n",
    "\n",
    "        x = self.b0(x) \n",
    "        x = self.b1(x) \n",
    "        x = self.b2(x)\n",
    "        x = self.b3(x) \n",
    "        x = self.b4(x) \n",
    "        x = self.b5(x) \n",
    "\n",
    "        x = self.b6(x) \n",
    "        x = self.b7(x) \n",
    "        x = self.b8(x) \n",
    "        x = F.adaptive_avg_pool2d(x,1).reshape(batch_size,-1)\n",
    "\n",
    "        x = self.emb(x)\n",
    "        logit = self.logit(x)\n",
    "    \n",
    "        return logit\n",
    "\n"
   ]
  },
  {
   "cell_type": "code",
   "execution_count": 12,
   "id": "935d8b69",
   "metadata": {},
   "outputs": [],
   "source": [
    "@torch.inference_mode()\n",
    "def inference(model, dataloader, device):\n",
    "    model.eval()\n",
    "    \n",
    "    dataset_size = 0\n",
    "\n",
    "    \n",
    "    bar = tqdm(enumerate(dataloader), total=len(dataloader))\n",
    "    IDS=[]\n",
    "    pred_y=[]\n",
    "    for step, data in bar:\n",
    "        ids = data[\"id\"]\n",
    "        ct_b, img_b, c, h, w = data['image'].size()\n",
    "        data_img = data['image'].reshape(-1, c, h, w)\n",
    "        \n",
    "        \n",
    "        images = data_img.to(device, dtype=torch.float)\n",
    "        \n",
    "        \n",
    "        batch_size = images.size(0)\n",
    "\n",
    "        outputs = model(images)\n",
    "\n",
    "\n",
    "        \n",
    "        pred_y.append(torch.sigmoid(outputs).cpu().numpy())\n",
    "        IDS.append(ids)\n",
    "        \n",
    "\n",
    "        \n",
    "    \n",
    "\n",
    "    pred_y=np.concatenate(pred_y)\n",
    "    IDS = np.concatenate(IDS)\n",
    "    \n",
    "    \n",
    "   \n",
    "    gc.collect()\n",
    "    \n",
    "\n",
    "  \n",
    "  \n",
    "    pred_y=np.array(pred_y).reshape(-1,1)\n",
    "    pred_y=np.array(pred_y).reshape(-1,img_b)\n",
    "\n",
    "    pred_y=pred_y.mean(axis=1)\n",
    "    \n",
    "    return pred_y,IDS\n",
    "    "
   ]
  },
  {
   "cell_type": "code",
   "execution_count": 13,
   "id": "f3e283e3",
   "metadata": {},
   "outputs": [],
   "source": [
    "weights_path=\"model_weights/job_51_effnetb3a.bin\""
   ]
  },
  {
   "cell_type": "code",
   "execution_count": 14,
   "id": "5c22c88e",
   "metadata": {},
   "outputs": [],
   "source": [
    "model=Net()\n",
    "#model = nn.DataParallel(model)\n",
    "model.load_state_dict(torch.load(weights_path))\n",
    "model=model.cuda()"
   ]
  },
  {
   "cell_type": "code",
   "execution_count": 15,
   "id": "dca82c1a",
   "metadata": {},
   "outputs": [],
   "source": [
    "test_loader=prepare_loaders()"
   ]
  },
  {
   "cell_type": "code",
   "execution_count": 16,
   "id": "f28166ab",
   "metadata": {},
   "outputs": [
    {
     "name": "stderr",
     "output_type": "stream",
     "text": [
      "100%|██████████| 166/166 [01:19<00:00,  2.10it/s]\n"
     ]
    }
   ],
   "source": [
    "total_pred=[]\n",
    "for i in range(1):\n",
    "    pred_y,name=inference(model, test_loader, device=CONFIG['device'])\n",
    "    total_pred.append(pred_y)"
   ]
  },
  {
   "cell_type": "code",
   "execution_count": 17,
   "id": "8dc130fd",
   "metadata": {},
   "outputs": [],
   "source": [
    "final_pred=np.mean(total_pred,axis=0)"
   ]
  },
  {
   "cell_type": "code",
   "execution_count": 18,
   "id": "c6c13598",
   "metadata": {},
   "outputs": [],
   "source": [
    "dict_all=dict(zip(name, final_pred))"
   ]
  },
  {
   "cell_type": "code",
   "execution_count": 19,
   "id": "7ba932bd",
   "metadata": {},
   "outputs": [],
   "source": [
    "cnn_one_pred_df=pd.DataFrame(list(dict_all.items()),\n",
    "                   columns=['path', 'pred'])"
   ]
  },
  {
   "cell_type": "code",
   "execution_count": 20,
   "id": "72933193",
   "metadata": {},
   "outputs": [],
   "source": [
    "cnn_one_pred_df.to_csv(\"output/cnn_one_pred_df.csv\",index=False)"
   ]
  },
  {
   "cell_type": "code",
   "execution_count": null,
   "id": "b834aec2",
   "metadata": {},
   "outputs": [],
   "source": []
  },
  {
   "cell_type": "code",
   "execution_count": 21,
   "id": "a98e42d3",
   "metadata": {},
   "outputs": [],
   "source": [
    "times_list=[10,50]"
   ]
  },
  {
   "cell_type": "code",
   "execution_count": 22,
   "id": "e4353e88",
   "metadata": {},
   "outputs": [
    {
     "name": "stderr",
     "output_type": "stream",
     "text": [
      "100%|██████████| 166/166 [01:15<00:00,  2.20it/s]\n",
      "100%|██████████| 166/166 [01:15<00:00,  2.20it/s]\n",
      "100%|██████████| 166/166 [01:15<00:00,  2.19it/s]\n",
      "100%|██████████| 166/166 [01:14<00:00,  2.21it/s]\n",
      "100%|██████████| 166/166 [01:15<00:00,  2.18it/s]\n",
      "100%|██████████| 166/166 [01:15<00:00,  2.18it/s]\n",
      "100%|██████████| 166/166 [01:14<00:00,  2.22it/s]\n",
      "100%|██████████| 166/166 [01:16<00:00,  2.18it/s]\n",
      "100%|██████████| 166/166 [01:14<00:00,  2.24it/s]\n",
      "100%|██████████| 166/166 [01:15<00:00,  2.21it/s]\n"
     ]
    },
    {
     "name": "stdout",
     "output_type": "stream",
     "text": [
      "save\n"
     ]
    },
    {
     "name": "stderr",
     "output_type": "stream",
     "text": [
      "100%|██████████| 166/166 [01:15<00:00,  2.19it/s]\n",
      "100%|██████████| 166/166 [01:13<00:00,  2.25it/s]\n",
      "100%|██████████| 166/166 [01:14<00:00,  2.23it/s]\n",
      "100%|██████████| 166/166 [01:14<00:00,  2.23it/s]\n",
      "100%|██████████| 166/166 [01:14<00:00,  2.23it/s]\n",
      "100%|██████████| 166/166 [01:14<00:00,  2.23it/s]\n",
      "100%|██████████| 166/166 [01:14<00:00,  2.21it/s]\n",
      "100%|██████████| 166/166 [01:14<00:00,  2.22it/s]\n",
      "100%|██████████| 166/166 [01:14<00:00,  2.22it/s]\n",
      "100%|██████████| 166/166 [01:14<00:00,  2.22it/s]\n",
      "100%|██████████| 166/166 [01:14<00:00,  2.23it/s]\n",
      "100%|██████████| 166/166 [01:14<00:00,  2.22it/s]\n",
      "100%|██████████| 166/166 [01:14<00:00,  2.21it/s]\n",
      "100%|██████████| 166/166 [01:14<00:00,  2.22it/s]\n",
      "100%|██████████| 166/166 [01:15<00:00,  2.21it/s]\n",
      "100%|██████████| 166/166 [01:14<00:00,  2.22it/s]\n",
      "100%|██████████| 166/166 [01:16<00:00,  2.18it/s]\n",
      "100%|██████████| 166/166 [01:16<00:00,  2.18it/s]\n",
      "100%|██████████| 166/166 [01:15<00:00,  2.19it/s]\n",
      "100%|██████████| 166/166 [01:15<00:00,  2.20it/s]\n",
      "100%|██████████| 166/166 [01:14<00:00,  2.23it/s]\n",
      "100%|██████████| 166/166 [01:15<00:00,  2.20it/s]\n",
      "100%|██████████| 166/166 [01:14<00:00,  2.23it/s]\n",
      "100%|██████████| 166/166 [01:14<00:00,  2.22it/s]\n",
      "100%|██████████| 166/166 [01:14<00:00,  2.21it/s]\n",
      "100%|██████████| 166/166 [01:14<00:00,  2.22it/s]\n",
      "100%|██████████| 166/166 [01:15<00:00,  2.19it/s]\n",
      "100%|██████████| 166/166 [01:16<00:00,  2.18it/s]\n",
      "100%|██████████| 166/166 [01:15<00:00,  2.19it/s]\n",
      "100%|██████████| 166/166 [01:15<00:00,  2.19it/s]\n",
      "100%|██████████| 166/166 [01:15<00:00,  2.21it/s]\n",
      "100%|██████████| 166/166 [01:15<00:00,  2.19it/s]\n",
      "100%|██████████| 166/166 [01:14<00:00,  2.24it/s]\n",
      "100%|██████████| 166/166 [01:14<00:00,  2.23it/s]\n",
      "100%|██████████| 166/166 [01:15<00:00,  2.20it/s]\n",
      "100%|██████████| 166/166 [01:14<00:00,  2.23it/s]\n",
      "100%|██████████| 166/166 [01:14<00:00,  2.22it/s]\n",
      "100%|██████████| 166/166 [01:14<00:00,  2.23it/s]\n",
      "100%|██████████| 166/166 [01:14<00:00,  2.22it/s]\n",
      "100%|██████████| 166/166 [01:14<00:00,  2.24it/s]\n",
      "100%|██████████| 166/166 [01:14<00:00,  2.23it/s]\n",
      "100%|██████████| 166/166 [01:15<00:00,  2.21it/s]\n",
      "100%|██████████| 166/166 [01:14<00:00,  2.23it/s]\n",
      "100%|██████████| 166/166 [01:14<00:00,  2.24it/s]\n",
      "100%|██████████| 166/166 [01:14<00:00,  2.22it/s]\n",
      "100%|██████████| 166/166 [01:14<00:00,  2.22it/s]\n",
      "100%|██████████| 166/166 [01:15<00:00,  2.20it/s]\n",
      "100%|██████████| 166/166 [01:15<00:00,  2.20it/s]\n",
      "100%|██████████| 166/166 [01:15<00:00,  2.20it/s]\n",
      "100%|██████████| 166/166 [01:15<00:00,  2.20it/s]"
     ]
    },
    {
     "name": "stdout",
     "output_type": "stream",
     "text": [
      "save\n"
     ]
    },
    {
     "name": "stderr",
     "output_type": "stream",
     "text": [
      "\n"
     ]
    }
   ],
   "source": [
    "for times in times_list:\n",
    "    total_pred=[]\n",
    "    for i in range(times):\n",
    "        pred_y,name=inference(model, test_loader, device=CONFIG['device'])\n",
    "        total_pred.append(pred_y)\n",
    "    final_pred=np.mean(total_pred,axis=0)\n",
    "    dict_all=dict(zip(name, final_pred))\n",
    "\n",
    "    cnn_times_pred_df=pd.DataFrame(list(dict_all.items()),\n",
    "                       columns=['path', 'pred'])\n",
    "    cnn_times_pred_df.to_csv(f\"output/cnn_{times}_pred_df.csv\",index=False)\n",
    "    print(\"save\")"
   ]
  },
  {
   "cell_type": "code",
   "execution_count": null,
   "id": "fc5379e6",
   "metadata": {},
   "outputs": [],
   "source": []
  }
 ],
 "metadata": {
  "kernelspec": {
   "display_name": "Python 3",
   "language": "python",
   "name": "python3"
  },
  "language_info": {
   "codemirror_mode": {
    "name": "ipython",
    "version": 3
   },
   "file_extension": ".py",
   "mimetype": "text/x-python",
   "name": "python",
   "nbconvert_exporter": "python",
   "pygments_lexer": "ipython3",
   "version": "3.7.11"
  }
 },
 "nbformat": 4,
 "nbformat_minor": 5
}

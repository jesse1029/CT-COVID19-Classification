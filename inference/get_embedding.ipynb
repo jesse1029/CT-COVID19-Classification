{
 "cells": [
  {
   "cell_type": "code",
   "execution_count": 1,
   "id": "d01aa087",
   "metadata": {},
   "outputs": [],
   "source": [
    "import os\n",
    "import gc\n",
    "import cv2\n",
    "import math\n",
    "import copy\n",
    "import time\n",
    "import random\n",
    "\n",
    "# For data manipulation\n",
    "import numpy as np\n",
    "import pandas as pd\n",
    "\n",
    "# Pytorch Imports\n",
    "import torch\n",
    "import torch.nn as nn\n",
    "import torch.optim as optim\n",
    "import torch.nn.functional as F\n",
    "from torch.optim import lr_scheduler\n",
    "from torch.utils.data import Dataset, DataLoader\n",
    "from torch.cuda import amp\n",
    "\n",
    "# Albumentations for augmentations\n",
    "import albumentations as A\n",
    "from albumentations.pytorch import ToTensorV2\n",
    "\n",
    "\n",
    "from sklearn.metrics import f1_score,roc_auc_score\n",
    "\n",
    "\n",
    "import timm\n",
    "from timm.models.efficientnet import *\n",
    "\n",
    "# Utils\n",
    "import joblib\n",
    "from tqdm import tqdm\n",
    "from collections import defaultdict\n",
    "\n",
    "\n",
    "import warnings\n",
    "warnings.filterwarnings(\"ignore\")\n",
    "\n",
    "from sklearn.metrics import f1_score\n",
    "\n",
    "import matplotlib.pyplot as plt\n",
    "import glob"
   ]
  },
  {
   "cell_type": "code",
   "execution_count": 2,
   "id": "83797a04",
   "metadata": {},
   "outputs": [],
   "source": [
    "test_ct_all_list=list(glob.glob(\"work_test/test_crop/*/*\")) "
   ]
  },
  {
   "cell_type": "code",
   "execution_count": 3,
   "id": "b4764f4e",
   "metadata": {},
   "outputs": [
    {
     "data": {
      "text/plain": [
       "874235"
      ]
     },
     "execution_count": 3,
     "metadata": {},
     "output_type": "execute_result"
    }
   ],
   "source": [
    "len(test_ct_all_list)"
   ]
  },
  {
   "cell_type": "code",
   "execution_count": 4,
   "id": "1e62912d",
   "metadata": {},
   "outputs": [],
   "source": [
    "weights_path=\"model_weights/job_51_effnetb3a.bin\""
   ]
  },
  {
   "cell_type": "code",
   "execution_count": 5,
   "id": "c628f80d",
   "metadata": {},
   "outputs": [],
   "source": [
    "df = pd.DataFrame(test_ct_all_list, columns = ['path'])"
   ]
  },
  {
   "cell_type": "code",
   "execution_count": 6,
   "id": "f52da9df",
   "metadata": {},
   "outputs": [],
   "source": [
    "class Covid19Dataset(Dataset):\n",
    "    def __init__(self, df,transforms=None):\n",
    "        self.df = df\n",
    "  \n",
    "        self.path = df['path'].values\n",
    " \n",
    "        self.transforms = transforms\n",
    "        \n",
    "    def __len__(self):\n",
    "        return len(self.df)\n",
    "    \n",
    "    def __getitem__(self, index):\n",
    " \n",
    "\n",
    "        img_path_ = self.path[index]\n",
    "     \n",
    "\n",
    "        img = cv2.imread(img_path_)\n",
    "        try:\n",
    "            img = cv2.cvtColor(img, cv2.COLOR_BGR2RGB)\n",
    "        except:\n",
    "            print(img_path_ )\n",
    "        img = self.transforms(image=img)['image']\n",
    "\n",
    "            \n",
    "\n",
    "        return {\n",
    "            'image': img,\n",
    "\n",
    "            'id' : img_path_ \n",
    "        }\n",
    "            "
   ]
  },
  {
   "cell_type": "code",
   "execution_count": 7,
   "id": "600f453a",
   "metadata": {},
   "outputs": [],
   "source": [
    "# df"
   ]
  },
  {
   "cell_type": "code",
   "execution_count": 8,
   "id": "e3cf2c22",
   "metadata": {},
   "outputs": [],
   "source": [
    "data_transforms = {\n",
    "\n",
    "    \n",
    "    \"valid\": A.Compose([\n",
    "        A.Resize(256, 256),\n",
    "\n",
    "        A.Normalize(),\n",
    "        ToTensorV2()], p=1.)\n",
    "}"
   ]
  },
  {
   "cell_type": "code",
   "execution_count": 9,
   "id": "2180c35e",
   "metadata": {},
   "outputs": [],
   "source": [
    "def prepare_loaders():\n",
    "\n",
    "\n",
    "  \n",
    "\n",
    "    test_dataset = Covid19Dataset(df, transforms=data_transforms[\"valid\"])\n",
    "\n",
    "\n",
    "    test_loader = DataLoader(test_dataset, batch_size=128, \n",
    "                              num_workers=16, shuffle=False, pin_memory=True)\n",
    "\n",
    "    \n",
    "    return test_loader"
   ]
  },
  {
   "cell_type": "code",
   "execution_count": 10,
   "id": "5a710d1b",
   "metadata": {},
   "outputs": [],
   "source": [
    "class Net(nn.Module):\n",
    "    def __init__(self):\n",
    "        super(Net, self).__init__()\n",
    "\n",
    "        e = efficientnet_b3a(pretrained=True, drop_rate=0.3, drop_path_rate=0.2)\n",
    "        self.b0 = nn.Sequential(\n",
    "            e.conv_stem,\n",
    "            e.bn1,\n",
    "            e.act1,\n",
    "        )\n",
    "        self.b1 = e.blocks[0]\n",
    "        self.b2 = e.blocks[1]\n",
    "        self.b3 = e.blocks[2]\n",
    "        self.b4 = e.blocks[3]\n",
    "        self.b5 = e.blocks[4]\n",
    "        self.b6 = e.blocks[5]\n",
    "        self.b7 = e.blocks[6]\n",
    "        self.b8 = nn.Sequential(\n",
    "            e.conv_head, \n",
    "            e.bn2,\n",
    "            e.act2,\n",
    "        )\n",
    "\n",
    "        \n",
    "        self.emb = nn.Linear(1536,224)\n",
    "        self.logit = nn.Linear(224,1)\n",
    "\n",
    "\n",
    "\n",
    "    # @torch.cuda.amp.autocast()\n",
    "    def forward(self, image):\n",
    "        batch_size = len(image)\n",
    "        x = 2*image-1     \n",
    "\n",
    "        x = self.b0(x) \n",
    "        x = self.b1(x) \n",
    "        x = self.b2(x) \n",
    "        x = self.b3(x) \n",
    "        x = self.b4(x) \n",
    "        x = self.b5(x) \n",
    "\n",
    "        x = self.b6(x) \n",
    "        x = self.b7(x) \n",
    "        x = self.b8(x) \n",
    "        x = F.adaptive_avg_pool2d(x,1).reshape(batch_size,-1)\n",
    "\n",
    "        x = self.emb(x)\n",
    "        logit = self.logit(x)\n",
    "        \n",
    "        return x\n",
    "\n"
   ]
  },
  {
   "cell_type": "code",
   "execution_count": 11,
   "id": "301cc4f7",
   "metadata": {},
   "outputs": [],
   "source": [
    "model=Net()\n",
    "#model = nn.DataParallel(model)\n",
    "model.load_state_dict(torch.load(weights_path))\n",
    "model=model.cuda()"
   ]
  },
  {
   "cell_type": "code",
   "execution_count": 12,
   "id": "41c3c7cc",
   "metadata": {},
   "outputs": [],
   "source": [
    "@torch.inference_mode()\n",
    "def get_embeddings(model, dataloader, device):\n",
    "    model.eval()\n",
    "    \n",
    "    LABELS = []\n",
    "    EMBEDS = []\n",
    "    IDS = []\n",
    "    \n",
    "    bar = tqdm(enumerate(dataloader), total=len(dataloader))\n",
    "    \n",
    "    for step, data in bar:  \n",
    "\n",
    "        \n",
    "    \n",
    "        data_img = data['image']\n",
    "    \n",
    "        images = data_img.to(device, dtype=torch.float)\n",
    "\n",
    "\n",
    "\n",
    "        ids = data['id']\n",
    "\n",
    "        outputs = model(images)\n",
    "        \n",
    "\n",
    "        EMBEDS.append(outputs.cpu().numpy())\n",
    "        IDS.append(ids)\n",
    "    \n",
    "\n",
    "    \n",
    "    return EMBEDS, IDS"
   ]
  },
  {
   "cell_type": "code",
   "execution_count": 13,
   "id": "d914d575",
   "metadata": {},
   "outputs": [],
   "source": [
    "test_loader = prepare_loaders()"
   ]
  },
  {
   "cell_type": "code",
   "execution_count": 14,
   "id": "d0ae14b9",
   "metadata": {},
   "outputs": [],
   "source": [
    "device=torch.device(\"cuda:0\" if torch.cuda.is_available() else \"cpu\")"
   ]
  },
  {
   "cell_type": "code",
   "execution_count": 15,
   "id": "084dc59e",
   "metadata": {},
   "outputs": [
    {
     "name": "stderr",
     "output_type": "stream",
     "text": [
      "100%|██████████| 6830/6830 [13:11<00:00,  8.63it/s]\n"
     ]
    }
   ],
   "source": [
    "embed,name=get_embeddings(model,test_loader,device)"
   ]
  },
  {
   "cell_type": "code",
   "execution_count": 16,
   "id": "7a3041ef",
   "metadata": {},
   "outputs": [],
   "source": [
    "embed = np.vstack(embed)\n",
    "name = np.concatenate(name)\n"
   ]
  },
  {
   "cell_type": "code",
   "execution_count": 17,
   "id": "2db568a9",
   "metadata": {},
   "outputs": [],
   "source": [
    "dict_all=dict(zip(name, embed))"
   ]
  },
  {
   "cell_type": "code",
   "execution_count": 18,
   "id": "b8bd41a3",
   "metadata": {},
   "outputs": [],
   "source": [
    "df_224=pd.DataFrame(list(dict_all.items()),\n",
    "                   columns=['path', 'embed'])"
   ]
  },
  {
   "cell_type": "code",
   "execution_count": 19,
   "id": "6e5dd5fc",
   "metadata": {},
   "outputs": [],
   "source": [
    "# df_224.head()"
   ]
  },
  {
   "cell_type": "code",
   "execution_count": 20,
   "id": "08fe059a",
   "metadata": {},
   "outputs": [],
   "source": [
    "df_224[\"ct_path\"]=df_224[\"path\"].apply(lambda x: x.split(\"/\")[-2])\n",
    "df_224[\"ct_slice\"]=df_224[\"path\"].apply(lambda x: int(x.split(\"/\")[-1].split(\".\")[0]))"
   ]
  },
  {
   "cell_type": "code",
   "execution_count": 21,
   "id": "55553a5a",
   "metadata": {},
   "outputs": [],
   "source": [
    "df_224[\"ct_len\"]=df_224.groupby([\"ct_path\"])[\"ct_slice\"].transform('count')"
   ]
  },
  {
   "cell_type": "code",
   "execution_count": 22,
   "id": "8b078b65",
   "metadata": {},
   "outputs": [],
   "source": [
    "df_224.sort_values(by=['ct_path', 'ct_slice'], inplace=True)"
   ]
  },
  {
   "cell_type": "code",
   "execution_count": 23,
   "id": "fa3de2e3",
   "metadata": {},
   "outputs": [],
   "source": [
    "df_224=df_224.reset_index(drop=True)"
   ]
  },
  {
   "cell_type": "code",
   "execution_count": 24,
   "id": "0e5a0a05",
   "metadata": {},
   "outputs": [],
   "source": [
    "# df_224.ct_path.nunique()"
   ]
  },
  {
   "cell_type": "code",
   "execution_count": 25,
   "id": "8105d272",
   "metadata": {},
   "outputs": [],
   "source": [
    "df_224.to_pickle(\"work_test/test_224_embed.pkl\")  "
   ]
  },
  {
   "cell_type": "code",
   "execution_count": null,
   "id": "105ecfd7",
   "metadata": {},
   "outputs": [],
   "source": []
  }
 ],
 "metadata": {
  "kernelspec": {
   "display_name": "Python 3",
   "language": "python",
   "name": "python3"
  },
  "language_info": {
   "codemirror_mode": {
    "name": "ipython",
    "version": 3
   },
   "file_extension": ".py",
   "mimetype": "text/x-python",
   "name": "python",
   "nbconvert_exporter": "python",
   "pygments_lexer": "ipython3",
   "version": "3.7.11"
  }
 },
 "nbformat": 4,
 "nbformat_minor": 5
}

{
 "cells": [
  {
   "cell_type": "code",
   "execution_count": 1,
   "id": "16b45b33",
   "metadata": {},
   "outputs": [],
   "source": [
    "import os\n",
    "import gc\n",
    "import cv2\n",
    "import math\n",
    "import copy\n",
    "import time\n",
    "import random\n",
    "\n",
    "# For data manipulation\n",
    "import numpy as np\n",
    "import pandas as pd\n",
    "\n",
    "# Pytorch Imports\n",
    "import torch\n",
    "import torch.nn as nn\n",
    "import torch.optim as optim\n",
    "import torch.nn.functional as F\n",
    "from torch.optim import lr_scheduler\n",
    "from torch.utils.data import Dataset, DataLoader\n",
    "from torch.cuda import amp\n",
    "\n",
    "# Albumentations for augmentations\n",
    "import albumentations as A\n",
    "from albumentations.pytorch import ToTensorV2\n",
    "\n",
    "\n",
    "from sklearn.metrics import f1_score,roc_auc_score\n",
    "\n",
    "\n",
    "import timm\n",
    "from timm.models.efficientnet import *\n",
    "\n",
    "# Utils\n",
    "import joblib\n",
    "from tqdm import tqdm\n",
    "from collections import defaultdict\n",
    "\n",
    "\n",
    "import warnings\n",
    "warnings.filterwarnings(\"ignore\")\n",
    "\n",
    "from sklearn.metrics import f1_score\n",
    "import matplotlib.pyplot as plt\n",
    "import scipy\n",
    "from scipy import ndimage\n",
    "\n",
    "import glob"
   ]
  },
  {
   "cell_type": "code",
   "execution_count": 2,
   "id": "c65c7619",
   "metadata": {},
   "outputs": [],
   "source": [
    "test_ct_all_list=list(glob.glob(\"work_test/test_crop/*/*\")) "
   ]
  },
  {
   "cell_type": "code",
   "execution_count": 3,
   "id": "577e8132",
   "metadata": {},
   "outputs": [
    {
     "data": {
      "text/plain": [
       "874235"
      ]
     },
     "execution_count": 3,
     "metadata": {},
     "output_type": "execute_result"
    }
   ],
   "source": [
    "len(test_ct_all_list)"
   ]
  },
  {
   "cell_type": "code",
   "execution_count": 4,
   "id": "c68954e3",
   "metadata": {},
   "outputs": [
    {
     "name": "stderr",
     "output_type": "stream",
     "text": [
      "100%|██████████| 874235/874235 [2:25:30<00:00, 100.13it/s]  \n"
     ]
    }
   ],
   "source": [
    "test_area=[]\n",
    "for path in tqdm(test_ct_all_list):\n",
    "    img = cv2.imread(path)\n",
    "    img2=ndimage.minimum_filter(img,5)\n",
    "    img_b=np.where(img2<100,0,255)\n",
    "    mask=scipy.ndimage.binary_fill_holes(img_b[:,:,0])\n",
    "    mask_=mask*255\n",
    "    aaa=mask_-img_b[:,:,0]\n",
    "    test_area.append(aaa.sum()/255)"
   ]
  },
  {
   "cell_type": "code",
   "execution_count": 5,
   "id": "8f886e13",
   "metadata": {},
   "outputs": [],
   "source": [
    "test_area_df=pd.DataFrame((zip(test_ct_all_list, test_area)), columns = ['path', 'area'])"
   ]
  },
  {
   "cell_type": "code",
   "execution_count": 6,
   "id": "2d32bc7c",
   "metadata": {},
   "outputs": [
    {
     "data": {
      "text/html": [
       "<div>\n",
       "<style scoped>\n",
       "    .dataframe tbody tr th:only-of-type {\n",
       "        vertical-align: middle;\n",
       "    }\n",
       "\n",
       "    .dataframe tbody tr th {\n",
       "        vertical-align: top;\n",
       "    }\n",
       "\n",
       "    .dataframe thead th {\n",
       "        text-align: right;\n",
       "    }\n",
       "</style>\n",
       "<table border=\"1\" class=\"dataframe\">\n",
       "  <thead>\n",
       "    <tr style=\"text-align: right;\">\n",
       "      <th></th>\n",
       "      <th>path</th>\n",
       "      <th>area</th>\n",
       "    </tr>\n",
       "  </thead>\n",
       "  <tbody>\n",
       "    <tr>\n",
       "      <th>0</th>\n",
       "      <td>work_test/test_crop/ct_scan_4475/73.jpg</td>\n",
       "      <td>3877.0</td>\n",
       "    </tr>\n",
       "    <tr>\n",
       "      <th>1</th>\n",
       "      <td>work_test/test_crop/ct_scan_4475/29.jpg</td>\n",
       "      <td>49009.0</td>\n",
       "    </tr>\n",
       "    <tr>\n",
       "      <th>2</th>\n",
       "      <td>work_test/test_crop/ct_scan_4475/4.jpg</td>\n",
       "      <td>306.0</td>\n",
       "    </tr>\n",
       "    <tr>\n",
       "      <th>3</th>\n",
       "      <td>work_test/test_crop/ct_scan_4475/23.jpg</td>\n",
       "      <td>39893.0</td>\n",
       "    </tr>\n",
       "    <tr>\n",
       "      <th>4</th>\n",
       "      <td>work_test/test_crop/ct_scan_4475/26.jpg</td>\n",
       "      <td>45906.0</td>\n",
       "    </tr>\n",
       "    <tr>\n",
       "      <th>...</th>\n",
       "      <td>...</td>\n",
       "      <td>...</td>\n",
       "    </tr>\n",
       "    <tr>\n",
       "      <th>874230</th>\n",
       "      <td>work_test/test_crop/ct_scan_3419/62.jpg</td>\n",
       "      <td>23720.0</td>\n",
       "    </tr>\n",
       "    <tr>\n",
       "      <th>874231</th>\n",
       "      <td>work_test/test_crop/ct_scan_3419/55.jpg</td>\n",
       "      <td>57899.0</td>\n",
       "    </tr>\n",
       "    <tr>\n",
       "      <th>874232</th>\n",
       "      <td>work_test/test_crop/ct_scan_3419/54.jpg</td>\n",
       "      <td>60696.0</td>\n",
       "    </tr>\n",
       "    <tr>\n",
       "      <th>874233</th>\n",
       "      <td>work_test/test_crop/ct_scan_3419/12.jpg</td>\n",
       "      <td>36171.0</td>\n",
       "    </tr>\n",
       "    <tr>\n",
       "      <th>874234</th>\n",
       "      <td>work_test/test_crop/ct_scan_3419/66.jpg</td>\n",
       "      <td>10164.0</td>\n",
       "    </tr>\n",
       "  </tbody>\n",
       "</table>\n",
       "<p>874235 rows × 2 columns</p>\n",
       "</div>"
      ],
      "text/plain": [
       "                                           path     area\n",
       "0       work_test/test_crop/ct_scan_4475/73.jpg   3877.0\n",
       "1       work_test/test_crop/ct_scan_4475/29.jpg  49009.0\n",
       "2        work_test/test_crop/ct_scan_4475/4.jpg    306.0\n",
       "3       work_test/test_crop/ct_scan_4475/23.jpg  39893.0\n",
       "4       work_test/test_crop/ct_scan_4475/26.jpg  45906.0\n",
       "...                                         ...      ...\n",
       "874230  work_test/test_crop/ct_scan_3419/62.jpg  23720.0\n",
       "874231  work_test/test_crop/ct_scan_3419/55.jpg  57899.0\n",
       "874232  work_test/test_crop/ct_scan_3419/54.jpg  60696.0\n",
       "874233  work_test/test_crop/ct_scan_3419/12.jpg  36171.0\n",
       "874234  work_test/test_crop/ct_scan_3419/66.jpg  10164.0\n",
       "\n",
       "[874235 rows x 2 columns]"
      ]
     },
     "execution_count": 6,
     "metadata": {},
     "output_type": "execute_result"
    }
   ],
   "source": [
    "test_area_df"
   ]
  },
  {
   "cell_type": "code",
   "execution_count": 7,
   "id": "074d560d",
   "metadata": {},
   "outputs": [],
   "source": [
    "test_area_df.to_csv(\"work_test/test_area_df.csv\",index=False)"
   ]
  },
  {
   "cell_type": "code",
   "execution_count": 8,
   "id": "333e9ea8",
   "metadata": {},
   "outputs": [],
   "source": [
    "test_area_df[\"ct_path\"]=test_area_df[\"path\"].apply(lambda x: \"/\".join(x.split(\"/\")[:-1]))\n",
    "test_area_df[\"ct_slice\"]=test_area_df[\"path\"].apply(lambda x: int(x.split(\"/\")[-1].split(\".\")[0]))"
   ]
  },
  {
   "cell_type": "code",
   "execution_count": 9,
   "id": "a139c29f",
   "metadata": {},
   "outputs": [],
   "source": [
    "test_area_df.sort_values(by=['ct_path', 'ct_slice'], inplace=True)"
   ]
  },
  {
   "cell_type": "code",
   "execution_count": 10,
   "id": "c268e792",
   "metadata": {},
   "outputs": [],
   "source": [
    "test_area_df=test_area_df.reset_index(drop=True)"
   ]
  },
  {
   "cell_type": "code",
   "execution_count": 11,
   "id": "4e9ceee4",
   "metadata": {},
   "outputs": [
    {
     "data": {
      "text/html": [
       "<div>\n",
       "<style scoped>\n",
       "    .dataframe tbody tr th:only-of-type {\n",
       "        vertical-align: middle;\n",
       "    }\n",
       "\n",
       "    .dataframe tbody tr th {\n",
       "        vertical-align: top;\n",
       "    }\n",
       "\n",
       "    .dataframe thead th {\n",
       "        text-align: right;\n",
       "    }\n",
       "</style>\n",
       "<table border=\"1\" class=\"dataframe\">\n",
       "  <thead>\n",
       "    <tr style=\"text-align: right;\">\n",
       "      <th></th>\n",
       "      <th>path</th>\n",
       "      <th>area</th>\n",
       "      <th>ct_path</th>\n",
       "      <th>ct_slice</th>\n",
       "    </tr>\n",
       "  </thead>\n",
       "  <tbody>\n",
       "    <tr>\n",
       "      <th>0</th>\n",
       "      <td>work_test/test_crop/ct_scan_0/0.jpg</td>\n",
       "      <td>2089.0</td>\n",
       "      <td>work_test/test_crop/ct_scan_0</td>\n",
       "      <td>0</td>\n",
       "    </tr>\n",
       "    <tr>\n",
       "      <th>1</th>\n",
       "      <td>work_test/test_crop/ct_scan_0/1.jpg</td>\n",
       "      <td>2737.0</td>\n",
       "      <td>work_test/test_crop/ct_scan_0</td>\n",
       "      <td>1</td>\n",
       "    </tr>\n",
       "    <tr>\n",
       "      <th>2</th>\n",
       "      <td>work_test/test_crop/ct_scan_0/2.jpg</td>\n",
       "      <td>3532.0</td>\n",
       "      <td>work_test/test_crop/ct_scan_0</td>\n",
       "      <td>2</td>\n",
       "    </tr>\n",
       "    <tr>\n",
       "      <th>3</th>\n",
       "      <td>work_test/test_crop/ct_scan_0/3.jpg</td>\n",
       "      <td>5373.0</td>\n",
       "      <td>work_test/test_crop/ct_scan_0</td>\n",
       "      <td>3</td>\n",
       "    </tr>\n",
       "    <tr>\n",
       "      <th>4</th>\n",
       "      <td>work_test/test_crop/ct_scan_0/4.jpg</td>\n",
       "      <td>9076.0</td>\n",
       "      <td>work_test/test_crop/ct_scan_0</td>\n",
       "      <td>4</td>\n",
       "    </tr>\n",
       "    <tr>\n",
       "      <th>...</th>\n",
       "      <td>...</td>\n",
       "      <td>...</td>\n",
       "      <td>...</td>\n",
       "      <td>...</td>\n",
       "    </tr>\n",
       "    <tr>\n",
       "      <th>874230</th>\n",
       "      <td>work_test/test_crop/ct_scan_999/38.jpg</td>\n",
       "      <td>5596.0</td>\n",
       "      <td>work_test/test_crop/ct_scan_999</td>\n",
       "      <td>38</td>\n",
       "    </tr>\n",
       "    <tr>\n",
       "      <th>874231</th>\n",
       "      <td>work_test/test_crop/ct_scan_999/39.jpg</td>\n",
       "      <td>4850.0</td>\n",
       "      <td>work_test/test_crop/ct_scan_999</td>\n",
       "      <td>39</td>\n",
       "    </tr>\n",
       "    <tr>\n",
       "      <th>874232</th>\n",
       "      <td>work_test/test_crop/ct_scan_999/40.jpg</td>\n",
       "      <td>4397.0</td>\n",
       "      <td>work_test/test_crop/ct_scan_999</td>\n",
       "      <td>40</td>\n",
       "    </tr>\n",
       "    <tr>\n",
       "      <th>874233</th>\n",
       "      <td>work_test/test_crop/ct_scan_999/41.jpg</td>\n",
       "      <td>3720.0</td>\n",
       "      <td>work_test/test_crop/ct_scan_999</td>\n",
       "      <td>41</td>\n",
       "    </tr>\n",
       "    <tr>\n",
       "      <th>874234</th>\n",
       "      <td>work_test/test_crop/ct_scan_999/42.jpg</td>\n",
       "      <td>2702.0</td>\n",
       "      <td>work_test/test_crop/ct_scan_999</td>\n",
       "      <td>42</td>\n",
       "    </tr>\n",
       "  </tbody>\n",
       "</table>\n",
       "<p>874235 rows × 4 columns</p>\n",
       "</div>"
      ],
      "text/plain": [
       "                                          path    area  \\\n",
       "0          work_test/test_crop/ct_scan_0/0.jpg  2089.0   \n",
       "1          work_test/test_crop/ct_scan_0/1.jpg  2737.0   \n",
       "2          work_test/test_crop/ct_scan_0/2.jpg  3532.0   \n",
       "3          work_test/test_crop/ct_scan_0/3.jpg  5373.0   \n",
       "4          work_test/test_crop/ct_scan_0/4.jpg  9076.0   \n",
       "...                                        ...     ...   \n",
       "874230  work_test/test_crop/ct_scan_999/38.jpg  5596.0   \n",
       "874231  work_test/test_crop/ct_scan_999/39.jpg  4850.0   \n",
       "874232  work_test/test_crop/ct_scan_999/40.jpg  4397.0   \n",
       "874233  work_test/test_crop/ct_scan_999/41.jpg  3720.0   \n",
       "874234  work_test/test_crop/ct_scan_999/42.jpg  2702.0   \n",
       "\n",
       "                                ct_path  ct_slice  \n",
       "0         work_test/test_crop/ct_scan_0         0  \n",
       "1         work_test/test_crop/ct_scan_0         1  \n",
       "2         work_test/test_crop/ct_scan_0         2  \n",
       "3         work_test/test_crop/ct_scan_0         3  \n",
       "4         work_test/test_crop/ct_scan_0         4  \n",
       "...                                 ...       ...  \n",
       "874230  work_test/test_crop/ct_scan_999        38  \n",
       "874231  work_test/test_crop/ct_scan_999        39  \n",
       "874232  work_test/test_crop/ct_scan_999        40  \n",
       "874233  work_test/test_crop/ct_scan_999        41  \n",
       "874234  work_test/test_crop/ct_scan_999        42  \n",
       "\n",
       "[874235 rows x 4 columns]"
      ]
     },
     "execution_count": 11,
     "metadata": {},
     "output_type": "execute_result"
    }
   ],
   "source": [
    "test_area_df"
   ]
  },
  {
   "cell_type": "code",
   "execution_count": 12,
   "id": "e3fad4e0",
   "metadata": {},
   "outputs": [],
   "source": [
    "def sum_max(a,w=0.4):\n",
    "    l=len(a)\n",
    "    k=int(np.ceil(l*w))\n",
    "    d=0\n",
    "    tmp_max=0\n",
    "    for i in range(l-k+1):\n",
    "        if np.sum(a[i:i+k])>tmp_max:\n",
    "            tmp_max=np.sum(a[i:i+k])\n",
    "            d=i\n",
    "    return d,d+k"
   ]
  },
  {
   "cell_type": "code",
   "execution_count": 13,
   "id": "35d801f2",
   "metadata": {},
   "outputs": [],
   "source": [
    "ct_path_list=test_area_df[\"ct_path\"].unique()"
   ]
  },
  {
   "cell_type": "code",
   "execution_count": 14,
   "id": "4b936804",
   "metadata": {},
   "outputs": [
    {
     "name": "stderr",
     "output_type": "stream",
     "text": [
      "100%|██████████| 5281/5281 [05:39<00:00, 15.55it/s]\n"
     ]
    }
   ],
   "source": [
    "test_dic={}\n",
    "for i in tqdm(range(len(ct_path_list))):\n",
    "    tmp_df=test_area_df[test_area_df[\"ct_path\"]==ct_path_list[i]].reset_index(drop=True)\n",
    "    test_dic[ct_path_list[i]]=list(sum_max(tmp_df[\"area\"].values,0.5))"
   ]
  },
  {
   "cell_type": "code",
   "execution_count": 15,
   "id": "1c57b6c2",
   "metadata": {},
   "outputs": [],
   "source": [
    "import pickle\n",
    "with open('work_test/test_dic1_05.pickle', 'wb') as handle:\n",
    "    pickle.dump(test_dic, handle, protocol=pickle.HIGHEST_PROTOCOL)"
   ]
  },
  {
   "cell_type": "code",
   "execution_count": 16,
   "id": "1ca3aa45",
   "metadata": {},
   "outputs": [],
   "source": [
    "# ct_path_list=test_area_df[\"ct_path\"].unique()\n",
    "# for i in range(100):\n",
    "    \n",
    "#     tmp_df=test_area_df[test_area_df[\"ct_path\"]==ct_path_list[i]].reset_index(drop=True)\n",
    "#     a,b=test_dic[ct_path_list[i]]\n",
    "#     print(ct_path_list[i])\n",
    "#     plt.plot(tmp_df[\"area\"])\n",
    "#     plt.plot(tmp_df[\"area\"][a:b])\n",
    "#     print(a,b)\n",
    "#     plt.show()"
   ]
  },
  {
   "cell_type": "code",
   "execution_count": null,
   "id": "3dfa8a27",
   "metadata": {},
   "outputs": [],
   "source": []
  }
 ],
 "metadata": {
  "kernelspec": {
   "display_name": "Python 3",
   "language": "python",
   "name": "python3"
  },
  "language_info": {
   "codemirror_mode": {
    "name": "ipython",
    "version": 3
   },
   "file_extension": ".py",
   "mimetype": "text/x-python",
   "name": "python",
   "nbconvert_exporter": "python",
   "pygments_lexer": "ipython3",
   "version": "3.7.11"
  }
 },
 "nbformat": 4,
 "nbformat_minor": 5
}

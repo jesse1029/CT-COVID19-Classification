{
 "cells": [
  {
   "cell_type": "code",
   "execution_count": 1,
   "id": "85ccd422",
   "metadata": {},
   "outputs": [],
   "source": [
    "import gc\n",
    "import os\n",
    "import random\n",
    "\n",
    "import math\n",
    "import copy\n",
    "\n",
    "import numpy as np\n",
    "import pandas as pd\n",
    "\n",
    "from sklearn.model_selection import GroupKFold\n",
    "from tqdm.notebook import tqdm\n",
    "\n",
    "import torch\n",
    "import torch.nn as nn\n",
    "from torch.nn import functional as F\n",
    "from torch.utils.data import Dataset, DataLoader\n",
    "from torch.optim.lr_scheduler import ReduceLROnPlateau\n",
    "\n",
    "from transformers import AdamW\n",
    "from transformers import get_cosine_schedule_with_warmup\n",
    "\n",
    "from sklearn.metrics import f1_score,roc_auc_score"
   ]
  },
  {
   "cell_type": "code",
   "execution_count": 2,
   "id": "071419ab",
   "metadata": {},
   "outputs": [],
   "source": [
    "df=pd.read_pickle(\"work_test/test_224_embed.pkl\") "
   ]
  },
  {
   "cell_type": "code",
   "execution_count": 3,
   "id": "27f0298d",
   "metadata": {},
   "outputs": [],
   "source": [
    "ct_name=df[\"ct_path\"].unique()"
   ]
  },
  {
   "cell_type": "code",
   "execution_count": 4,
   "id": "6e92c290",
   "metadata": {},
   "outputs": [],
   "source": [
    "class config:\n",
    "\n",
    " \n",
    "    \n",
    "\n",
    "    ct_len=120\n",
    "\n",
    "    HIDDEN_SIZE = 128\n",
    "    BS = 32\n"
   ]
  },
  {
   "cell_type": "code",
   "execution_count": 5,
   "id": "2c653d98",
   "metadata": {},
   "outputs": [],
   "source": [
    "class Covid19Dataset(torch.utils.data.Dataset):\n",
    "    \n",
    "    def __init__(self, df):\n",
    "        self.df=df\n",
    "        self.dfs = [_df for _, _df in self.df.groupby(\"ct_path\")]\n",
    "        \n",
    "\n",
    "    def __getitem__(self, index):\n",
    "\n",
    "\n",
    "        tmp_df = self.dfs[index]\n",
    "        ct_name=tmp_df.ct_path.values[0]\n",
    "        \n",
    "\n",
    "        random.seed(4019)\n",
    "        if len(tmp_df) >= config.ct_len:\n",
    "            \n",
    "            temp_index = [x for x in range(len(tmp_df))]\n",
    "            target_index = random.sample(temp_index, k = config.ct_len)\n",
    "\n",
    "        elif len(tmp_df) < config.ct_len:\n",
    "            target_index = [x for x in range(len(tmp_df))]\n",
    "            temp = random.choices(target_index, k = config.ct_len - len(target_index))\n",
    "            target_index += temp\n",
    "            \n",
    "        target_index_sort=sorted(target_index)\n",
    "        \n",
    "        embed = tmp_df.iloc[target_index_sort, 1].values\n",
    "        img = np.array([])\n",
    "        img_list=[]\n",
    "\n",
    "        for i_embed in embed:\n",
    "            img_list.append(i_embed.reshape(1,-1))\n",
    "            \n",
    "        img=np.concatenate(img_list,axis=0)\n",
    "        if img.shape!=(config.ct_len,224):\n",
    "            print(img.shape)\n",
    "\n",
    "        \n",
    "        d = {\n",
    "            \"X\": torch.tensor(img).float(),\n",
    "            'id' : ct_name\n",
    "            \n",
    "\n",
    "        }\n",
    "\n",
    "        return d\n",
    "\n",
    "    def __len__(self):\n",
    "        return len(self.dfs)"
   ]
  },
  {
   "cell_type": "code",
   "execution_count": 6,
   "id": "d63ae586",
   "metadata": {},
   "outputs": [],
   "source": [
    "class Covid19Model(nn.Module):\n",
    "    \n",
    "    def __init__(self):\n",
    "        super(Covid19Model, self).__init__()\n",
    "\n",
    "        \n",
    "        self.lstm = nn.LSTM(224, config.HIDDEN_SIZE, batch_first=True, bidirectional=True, dropout=0.0, num_layers=4)\n",
    "        self.dropout1 = nn.Dropout(0.1)\n",
    "        self.dropout2 = nn.Dropout(0.15)\n",
    "        self.head = nn.Sequential(\n",
    "            nn.Linear(config.HIDDEN_SIZE * 2, config.HIDDEN_SIZE//2 ),\n",
    "            nn.LayerNorm(config.HIDDEN_SIZE//2 ),\n",
    "            nn.ReLU(),\n",
    "        \n",
    "        )\n",
    "        self.head2=nn.Linear(config.HIDDEN_SIZE//2 , 1)\n",
    "\n",
    "\n",
    "    def forward(self, X):\n",
    "\n",
    "\n",
    "        _,(hidden_state,_) = self.lstm(X, None) \n",
    "        hidden = torch.cat((hidden_state[-2,:,:], hidden_state[-1,:,:]), dim = 1)\n",
    "        out = self.dropout1(hidden)\n",
    "        logits = self.head(out)\n",
    "        logits=self.dropout2(logits)\n",
    "        logits=self.head2(logits)\n",
    "\n",
    "\n",
    "            \n",
    "        return logits"
   ]
  },
  {
   "cell_type": "code",
   "execution_count": 7,
   "id": "d6f9382b",
   "metadata": {},
   "outputs": [],
   "source": [
    "test_dset = Covid19Dataset(df)"
   ]
  },
  {
   "cell_type": "code",
   "execution_count": 8,
   "id": "b57e19bf",
   "metadata": {},
   "outputs": [],
   "source": [
    "test_loader = DataLoader(test_dset, batch_size=config.BS,\n",
    "                          pin_memory=True, shuffle=False, drop_last=False, num_workers=8)"
   ]
  },
  {
   "cell_type": "code",
   "execution_count": 9,
   "id": "21178ce3",
   "metadata": {},
   "outputs": [],
   "source": [
    "device = torch.device(\"cuda\")"
   ]
  },
  {
   "cell_type": "code",
   "execution_count": 10,
   "id": "446c45b1",
   "metadata": {},
   "outputs": [],
   "source": [
    "\n",
    "pred_path=\"model_weights/lstm/f1_best_model.bin\"\n",
    "model = Covid19Model()\n",
    "model.load_state_dict(torch.load(pred_path))\n",
    "model.to(device);"
   ]
  },
  {
   "cell_type": "code",
   "execution_count": 11,
   "id": "aec392da",
   "metadata": {},
   "outputs": [],
   "source": [
    "@torch.inference_mode()\n",
    "def inference(model, loader):\n",
    "    \n",
    "    predicts = []\n",
    "    IDS=[]\n",
    "    pred_y=[]\n",
    "  \n",
    "    model.eval()\n",
    "    for d in loader:\n",
    "\n",
    "        images = d['X'].to(device, dtype=torch.float)\n",
    "        ids = d['id']\n",
    "\n",
    "        out = model(images)\n",
    "\n",
    "        predicts.append(out.cpu())\n",
    "        pred_y.append(torch.sigmoid(out).cpu().numpy())\n",
    "        IDS.append(ids)\n",
    "\n",
    "\n",
    "    \n",
    "    return pred_y,IDS"
   ]
  },
  {
   "cell_type": "code",
   "execution_count": 12,
   "id": "4518ebef",
   "metadata": {},
   "outputs": [],
   "source": [
    "predicts,name=inference(model,test_loader)"
   ]
  },
  {
   "cell_type": "code",
   "execution_count": 13,
   "id": "4f3229ff",
   "metadata": {},
   "outputs": [],
   "source": [
    "name = np.concatenate(name)\n",
    "predicts=np.concatenate(predicts)"
   ]
  },
  {
   "cell_type": "code",
   "execution_count": 14,
   "id": "f04971b8",
   "metadata": {},
   "outputs": [],
   "source": [
    "dict_all=dict(zip(name, predicts.reshape(-1)))"
   ]
  },
  {
   "cell_type": "code",
   "execution_count": 15,
   "id": "ae76abbc",
   "metadata": {},
   "outputs": [],
   "source": [
    "lstm_pred_df=pd.DataFrame(list(dict_all.items()),\n",
    "                   columns=['path', 'pred'])"
   ]
  },
  {
   "cell_type": "code",
   "execution_count": null,
   "id": "8836157b",
   "metadata": {},
   "outputs": [],
   "source": []
  },
  {
   "cell_type": "code",
   "execution_count": 16,
   "id": "f839bd66",
   "metadata": {},
   "outputs": [],
   "source": [
    "lstm_pred_df.to_csv(\"output/lstm_pred_df.csv\",index=False)"
   ]
  },
  {
   "cell_type": "code",
   "execution_count": null,
   "id": "78ca47f2",
   "metadata": {},
   "outputs": [],
   "source": []
  },
  {
   "cell_type": "code",
   "execution_count": null,
   "id": "97064d0d",
   "metadata": {},
   "outputs": [],
   "source": []
  }
 ],
 "metadata": {
  "kernelspec": {
   "display_name": "Python 3",
   "language": "python",
   "name": "python3"
  },
  "language_info": {
   "codemirror_mode": {
    "name": "ipython",
    "version": 3
   },
   "file_extension": ".py",
   "mimetype": "text/x-python",
   "name": "python",
   "nbconvert_exporter": "python",
   "pygments_lexer": "ipython3",
   "version": "3.7.11"
  }
 },
 "nbformat": 4,
 "nbformat_minor": 5
}
